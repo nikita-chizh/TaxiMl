{
 "cells": [
  {
   "cell_type": "code",
   "execution_count": 1,
   "metadata": {},
   "outputs": [
    {
     "data": {
      "text/plain": [
       "Zone\n",
       "1226      3991\n",
       "1227      2662\n",
       "1228    120597\n",
       "1229    236281\n",
       "1230    312521\n",
       "1231    476106\n",
       "1232    489489\n",
       "1233    552503\n",
       "1234    394985\n",
       "1235    265118\n",
       "dtype: int64"
      ]
     },
     "execution_count": 1,
     "metadata": {},
     "output_type": "execute_result"
    }
   ],
   "source": [
    "import numpy as np\n",
    "import pandas as pd\n",
    "import os\n",
    "from collections import Counter\n",
    "\n",
    "dpath = \"/home/nikita/PycharmProjects/taxi/processed_data/TwoDstat.csv\"\n",
    "twoD = pd.read_csv(dpath, index_col=\"Zone\")\n",
    "cellSum = twoD.sum(axis=1)\n",
    "cellSum.iloc[[1225 + i for i in range(10)]]"
   ]
  },
  {
   "cell_type": "markdown",
   "metadata": {},
   "source": [
    "Кол-во нулевых"
   ]
  },
  {
   "cell_type": "code",
   "execution_count": 2,
   "metadata": {},
   "outputs": [
    {
     "name": "stdout",
     "output_type": "stream",
     "text": [
      "1283\n"
     ]
    }
   ],
   "source": [
    "zero_zones = Counter(cellSum)[0]\n",
    "print(zero_zones)"
   ]
  },
  {
   "cell_type": "markdown",
   "metadata": {},
   "source": [
    "Построим карту Нью-Йорка"
   ]
  },
  {
   "cell_type": "code",
   "execution_count": 3,
   "metadata": {},
   "outputs": [],
   "source": [
    "import folium\n",
    "folium_map = folium.Map(location=[40.738, -73.98],\n",
    "                        zoom_start=10,\n",
    "                        tiles=\"CartoDB dark_matter\")\n"
   ]
  },
  {
   "cell_type": "markdown",
   "metadata": {},
   "source": [
    "Подготовим json для визуализации"
   ]
  },
  {
   "cell_type": "code",
   "execution_count": 4,
   "metadata": {},
   "outputs": [
    {
     "data": {
      "text/plain": [
       "556636"
      ]
     },
     "execution_count": 4,
     "metadata": {},
     "output_type": "execute_result"
    }
   ],
   "source": [
    "import json\n",
    "\n",
    "res_json_dict = {\n",
    "    \"type\": \"FeatureCollection\",\n",
    "    \"features\": []\n",
    "}\n",
    "\n",
    "dpath = \"/home/nikita/PycharmProjects/taxi/raw_data/regions.csv\"\n",
    "f = open(dpath)\n",
    "l = f.readline()\n",
    "features = []\n",
    "\n",
    "for l in f:\n",
    "    row = l.split(\";\")\n",
    "    f = {\n",
    "        \"type\": \"Feature\",\n",
    "        \"id\": \"test\",\n",
    "        \"properties\": {\n",
    "            \"name\": \"test\"\n",
    "        },\n",
    "        \"geometry\": {\n",
    "            \"type\": \"Polygon\",\n",
    "            \"coordinates\": []\n",
    "        }\n",
    "    }\n",
    "    f[\"id\"] = int(row[0])\n",
    "    for i in range(len(row)):\n",
    "        row[i] = float(row[i])\n",
    "    coordinates = []\n",
    "    coordinates.append([row[1], row[3]])\n",
    "    coordinates.append([row[1], row[4]])\n",
    "    coordinates.append([row[2], row[4]])\n",
    "    coordinates.append([row[2], row[3]])\n",
    "    f[\"geometry\"][\"coordinates\"] = [coordinates]\n",
    "    features.append(f)\n",
    "\n",
    "res_json_dict[\"features\"] = features\n",
    "res_json = json.dumps(res_json_dict)\n",
    "resfile = \"NYheo.json\"\n",
    "f = open(resfile, 'w')\n",
    "f.write(res_json)"
   ]
  },
  {
   "cell_type": "markdown",
   "metadata": {},
   "source": [
    "Построим карту с ячейками цветом, отображающим максимальное кол-во поездок"
   ]
  },
  {
   "cell_type": "code",
   "execution_count": 5,
   "metadata": {},
   "outputs": [],
   "source": [
    "dpath = \"/home/nikita/PycharmProjects/taxi/processed_data/TwoDstat.csv\"\n",
    "twoD = pd.read_csv(dpath, index_col=\"Zone\")\n",
    "d = twoD.sum(axis=1).values.reshape((twoD.shape[0], 1))\n",
    "z = np.array(range(1, len(d) + 1)).reshape((len(d), 1))\n",
    "dz = np.concatenate((z, d), axis=1)\n",
    "\n",
    "data = pd.DataFrame(dz, columns=['Zone', 'Rides'])\n",
    "#\n",
    "geo_data = \"/home/nikita/PycharmProjects/taxi/week2/NYheo.json\"\n",
    "# Initialize the map:\n",
    "m = folium.Map(location=[40.738, -73.98],\n",
    "                        zoom_start=10,)\n",
    "\n",
    "# Add the color for the chloropleth:\n",
    "m.choropleth(\n",
    "    geo_data=geo_data,\n",
    "    name='choropleth',\n",
    "    data=data,\n",
    "    columns=['Zone', 'Rides'],\n",
    "    key_on='feature.id',\n",
    "    fill_color='BuPu',\n",
    "    fill_opacity=0.7,\n",
    "    line_opacity=0.2,\n",
    "    legend_name='Rides number'\n",
    ")\n",
    "folium.LayerControl().add_to(m)\n",
    "est = (40.7484, -73.9857)\n",
    "folium.Marker(location=est, popup=\"Empire State Building\").add_to(m)\n",
    "# Save to html\n",
    "m.save('AllRides.html')"
   ]
  },
  {
   "cell_type": "markdown",
   "metadata": {},
   "source": [
    "### Статическую картинку я не смог сделать, обе html-ки в архиве"
   ]
  },
  {
   "cell_type": "markdown",
   "metadata": {},
   "source": [
    "Отфильтруем поездки с менне чем 5 поездками"
   ]
  },
  {
   "cell_type": "code",
   "execution_count": 6,
   "metadata": {},
   "outputs": [
    {
     "data": {
      "text/plain": [
       "22735"
      ]
     },
     "execution_count": 6,
     "metadata": {},
     "output_type": "execute_result"
    }
   ],
   "source": [
    "more_than5zones = []\n",
    "dpath = \"/home/nikita/PycharmProjects/taxi/processed_data/TwoDstat.csv\"\n",
    "twoD = pd.read_csv(dpath, index_col=\"Zone\")\n",
    "TwoDMean = twoD.mean(axis=1).values.reshape((twoD.shape[0], 1))\n",
    "more_than5ids = []\n",
    "more_than5values = []\n",
    "for i in range(TwoDMean.shape[0]):\n",
    "    rides_per_hour = TwoDMean[i][0]\n",
    "    if rides_per_hour >= 5:\n",
    "        more_than5zones.append(features[i])\n",
    "        more_than5ids.append(features[i][\"id\"])\n",
    "        more_than5values.append(rides_per_hour)\n",
    "        \n",
    "        \n",
    "res_json_dict[\"features\"] = more_than5zones\n",
    "res_json = json.dumps(res_json_dict)\n",
    "resfile = \"RidesPerHour.json\"\n",
    "f = open(resfile, 'w')\n",
    "f.write(res_json)"
   ]
  },
  {
   "cell_type": "code",
   "execution_count": 7,
   "metadata": {},
   "outputs": [],
   "source": [
    "data = pd.DataFrame({'Zone': more_than5ids,'Rides' : more_than5values })\n",
    "geo_data = \"/home/nikita/PycharmProjects/taxi/RidesPerHour.json\"\n",
    "# Initialize the map: 40.6892° N, 74.0445\n",
    "meanMap = folium.Map(location=[40.6892, -74.0445],\n",
    "                        zoom_start=10,)\n",
    "\n",
    "# Add the color for the chloropleth:\n",
    "meanMap.choropleth(\n",
    "    geo_data=geo_data,\n",
    "    name='choropleth',\n",
    "    data=data,\n",
    "    columns=['Zone', 'Rides'],\n",
    "    key_on='feature.id',\n",
    "    fill_color='YlGn',\n",
    "    fill_opacity=0.7,\n",
    "    line_opacity=0.2,\n",
    "    legend_name='Rides number'\n",
    ")\n",
    "folium.LayerControl().add_to(meanMap)\n",
    "# 40.6892° N, 74.0445\n",
    "marker = folium.Marker(location=(40.6892, -74.0445), popup=\"Statue Of Liberty\")\n",
    "marker.add_to(meanMap)\n",
    "# Save to html\n",
    "meanMap.save('RidesPerHour.html')"
   ]
  },
  {
   "cell_type": "markdown",
   "metadata": {},
   "source": [
    "Одна из ячеек полностью находится в воде."
   ]
  },
  {
   "cell_type": "code",
   "execution_count": null,
   "metadata": {},
   "outputs": [],
   "source": []
  }
 ],
 "metadata": {
  "kernelspec": {
   "display_name": "Python 3",
   "language": "python",
   "name": "python3"
  },
  "language_info": {
   "codemirror_mode": {
    "name": "ipython",
    "version": 3
   },
   "file_extension": ".py",
   "mimetype": "text/x-python",
   "name": "python",
   "nbconvert_exporter": "python",
   "pygments_lexer": "ipython3",
   "version": "3.5.2"
  }
 },
 "nbformat": 4,
 "nbformat_minor": 1
}
